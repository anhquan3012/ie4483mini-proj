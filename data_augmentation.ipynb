{
 "cells": [
  {
   "cell_type": "code",
   "execution_count": null,
   "metadata": {},
   "outputs": [],
   "source": [
    "import numpy as np\n",
    "import os\n",
    "import PIL\n",
    "import PIL.Image\n",
    "import tensorflow as tf\n",
    "import cv2\n",
    "import pandas as pd\n",
    "import matplotlib.pyplot as plt\n",
    "from tensorflow import keras\n",
    "from tensorflow.keras import preprocessing\n",
    "import shutil"
   ]
  },
  {
   "cell_type": "markdown",
   "metadata": {},
   "source": [
    "https://stackoverflow.com/questions/68505932/how-to-save-augmented-images-using-imagedatagenerator-and-flow-from-directory-in "
   ]
  },
  {
   "cell_type": "code",
   "execution_count": null,
   "metadata": {},
   "outputs": [],
   "source": [
    "sdir='datasets'\n",
    "aug_dir=os.path.join(sdir,'augmented_images')\n",
    "os.mkdir(aug_dir) # make a new empty aug_dir\n",
    "filepaths=[]\n",
    "labels=[]\n",
    "# iterate through original_images and create a dataframe of the form filepaths, labels\n",
    "original_images_dir=os.path.join(sdir, 'train')\n",
    "for klass in ['cat', 'dog']:\n",
    "    os.mkdir(os.path.join(aug_dir,klass)) # make the class subdirectories in the aug_dir\n",
    "    classpath=os.path.join(original_images_dir, klass) # get the path to the classes (benign and maligant)\n",
    "    flist=os.listdir(classpath)# for each class the the list of files in the class    \n",
    "    for f in flist:        \n",
    "        fpath=os.path.join(classpath, f) # get the path to the file\n",
    "        filepaths.append(fpath)\n",
    "        labels.append(klass)\n",
    "    Fseries=pd.Series(filepaths, name='filepaths')\n",
    "    Lseries=pd.Series(labels, name='labels')\n",
    "df=pd.concat([Fseries, Lseries], axis=1) # create the dataframe\n",
    "gen=tf.keras.preprocessing.image.ImageDataGenerator(rotation_range=90, horizontal_flip=True, vertical_flip=True)\n",
    "groups=df.groupby('labels') # group by class\n",
    "for label in df['labels'].unique():  # for every class               \n",
    "    group=groups.get_group(label)  # a dataframe holding only rows with the specified label \n",
    "    sample_count=len(group)   # determine how many samples there are in this class  \n",
    "    aug_img_count=0\n",
    "    target_dir=os.path.join(aug_dir, label)  # define where to write the images    \n",
    "    aug_gen=gen.flow_from_dataframe( group,  x_col='filepaths', y_col=None, target_size=(224,224), class_mode=None,\n",
    "                                        batch_size=1, shuffle=False, save_to_dir=target_dir, save_prefix='aug-',\n",
    "                                        save_format='jpg')\n",
    "    while aug_img_count<len(group):\n",
    "        images=next(aug_gen)            \n",
    "        aug_img_count += len(images)"
   ]
  }
 ],
 "metadata": {
  "kernelspec": {
   "display_name": "Python 3.7.13 ('tensor')",
   "language": "python",
   "name": "python3"
  },
  "language_info": {
   "codemirror_mode": {
    "name": "ipython",
    "version": 3
   },
   "file_extension": ".py",
   "mimetype": "text/x-python",
   "name": "python",
   "nbconvert_exporter": "python",
   "pygments_lexer": "ipython3",
   "version": "3.7.13"
  },
  "orig_nbformat": 4,
  "vscode": {
   "interpreter": {
    "hash": "1f3d74d8669e55fc2bcb253f08c28ac3a023acece8c820ce6a7e72d53a3e2034"
   }
  }
 },
 "nbformat": 4,
 "nbformat_minor": 2
}
